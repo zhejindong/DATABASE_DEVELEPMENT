{
  "nbformat": 4,
  "nbformat_minor": 0,
  "metadata": {
    "colab": {
      "name": "Project2_s19_colab.ipynb",
      "version": "0.3.2",
      "provenance": [],
      "collapsed_sections": [],
      "toc_visible": true,
      "include_colab_link": true
    },
    "kernelspec": {
      "display_name": "Python 3",
      "name": "python3"
    }
  },
  "cells": [
    {
      "cell_type": "markdown",
      "metadata": {
        "id": "view-in-github",
        "colab_type": "text"
      },
      "source": [
        "<a href=\"https://colab.research.google.com/github/zhejindong/DATABASE_DEVELEPMENT/blob/master/Project2_s19_colab.ipynb\" target=\"_parent\"><img src=\"https://colab.research.google.com/assets/colab-badge.svg\" alt=\"Open In Colab\"/></a>"
      ]
    },
    {
      "cell_type": "markdown",
      "metadata": {
        "id": "Y75mPdpqeQPU",
        "colab_type": "text"
      },
      "source": [
        "# Project 2: Graph Analysis\n",
        "* Released: 04/16\n",
        "* Due: 05/02 10AM\n",
        "* Value: 5% of your grade\n",
        "* Max team of 2"
      ]
    },
    {
      "cell_type": "markdown",
      "metadata": {
        "id": "VmYpKfmpeOD7",
        "colab_type": "text"
      },
      "source": [
        "Many graph analysis compute network centrality, density, shortest paths, and other path-based statistics about a graph.  It may seem that writing a one-off Python script is a good way to perform this analysis, but it turns out that SQL is pretty great at doing this type of analysis!  \n",
        "\n",
        "## Background of the Data\n",
        "For this assignment, you will do a graph analysis to analyze Tweets from [**Twitter Elections Integrity Dataset**](https://about.twitter.com/en_us/values/elections-integrity.html#data).\n",
        "\n",
        "- Justice Department charged 13 Russian nationals with interfering in American electoral and political processes. The defendants worked for a well-funded “troll factory” called the Internet Research Agency(**IRA**).\n",
        "- IRA ran a campaign to sow disinformation and discord into American politics via social media (mostly twitter).\n",
        "- Dataset includes information from 3613 accounts believed to be connected to the Russian Internet Research Agency."
      ]
    },
    {
      "cell_type": "markdown",
      "metadata": {
        "id": "ZcUs4rQkeqEd",
        "colab_type": "text"
      },
      "source": [
        "#### Twitter IRA dataset\n",
        "\n",
        "In reality, the twitter dataset contains the following attributes.\n",
        "\n",
        "```\n",
        "tweetid                   # tweet id\n",
        "userid                    # user id (hashed for users which had fewer than 5,000 followers) \n",
        "user_display_name         # name of user (same as userid for anonymized users)\n",
        "user_screen_name          # the Twitter handle of the user\n",
        "user_reported_location    # self-reported location\n",
        "……\n",
        "```\n",
        "\n",
        "Please check [Twitter Elections Integrity Datasets Readme](https://storage.googleapis.com/twitter-election-integrity/hashed/Twitter_Elections_Integrity_Datasets_hashed_README.txt) for full description"
      ]
    },
    {
      "cell_type": "markdown",
      "metadata": {
        "id": "SWDImW3Tekkl",
        "colab_type": "text"
      },
      "source": [
        "## Refresher\n",
        "\n",
        "You will write queries or short Python programs to answer the following questions about the dataset.  \n",
        "\n",
        "In the simple case, graphs have the following schema:\n",
        "\n",
        "        nodes(id int primary key, <attributes>)\n",
        "        edges(\n",
        "          src int NOT NULL references nodes(id),\n",
        "          dst int NOT NULL references nodes(id),\n",
        "          <attributes\n",
        "        )\n",
        "\n",
        "Recall that in graph analysis, you are interested in finding neighbors of nodes or paths between nodes.    Following an edge in the graph corresponds to a JOIN.  For example, the following finds all neighbors of node id 2:\n",
        "\n",
        "        SELECT dst FROM edges WHERE src = 2;\n",
        "\n",
        "Similarly, if we have a table `goodnodes` that contains IDs of nodes that we are interested in, the following query finds neighbors of these good nodes:\n",
        "\n",
        "        SELECT dst FROM edges, goodnodes WHERE edges.src = goodnodes.id;"
      ]
    },
    {
      "cell_type": "markdown",
      "metadata": {
        "colab_type": "text",
        "id": "KcAZ2RHCg_Ze"
      },
      "source": [
        "## Before you begin\n"
      ]
    },
    {
      "cell_type": "markdown",
      "metadata": {
        "id": "-eG-LkZdYAvX",
        "colab_type": "text"
      },
      "source": [
        "### Step 1. Setup BigQuery\n",
        "* Click **File** on the colab menu, chose **\"Save a copy in Drive\"**, so you can save your work to your Google Drive.\n",
        "* Follow [this instruction](https://github.com/w4111/project2_s19/blob/master/Setup_Instructions.pdf) to enable BigQuery, get project ID and create dataset to store your temperary table"
      ]
    },
    {
      "cell_type": "markdown",
      "metadata": {
        "colab_type": "text",
        "id": "OHCBQv4uTCPc"
      },
      "source": [
        "### Step 2. Important BigQuery Reference\n",
        "\n",
        "BigQuery support standard SQL functions and operators. If you need help with SQL syntax, the following reference will be really helpful.\n",
        "\n",
        "[**BigQuery Standard SQL Functions & Operators API Reference**](https://cloud.google.com/bigquery/docs/reference/standard-sql/functions-and-operators)"
      ]
    },
    {
      "cell_type": "markdown",
      "metadata": {
        "id": "ZrX9qybbw4bQ",
        "colab_type": "text"
      },
      "source": [
        "### Step 3. Provide your and your teammate UNI"
      ]
    },
    {
      "cell_type": "code",
      "metadata": {
        "id": "W1Np5iuqwlCG",
        "colab_type": "code",
        "outputId": "32a43fe6-1e26-4d5c-bc22-0f2357ae7805",
        "colab": {
          "base_uri": "https://localhost:8080/",
          "height": 34
        }
      },
      "source": [
        "# Your columbia uni that is used in SSOL\n",
        "My_UNI = \"zd2221\"\n",
        "My_Teammate_UNI = \"None\"\n",
        "\n",
        "print(\"My UNI is {u1}, My teammate UNI is {u2}\".format(u1=My_UNI, u2 = My_Teammate_UNI))"
      ],
      "execution_count": 190,
      "outputs": [
        {
          "output_type": "stream",
          "text": [
            "My UNI is zd2221, My teammate UNI is None\n"
          ],
          "name": "stdout"
        }
      ]
    },
    {
      "cell_type": "markdown",
      "metadata": {
        "id": "nY0hDSxLgEon",
        "colab_type": "text"
      },
      "source": [
        "### Step 4. Provide your credentials to the runtime\n",
        "Please click on the link in the output of following cell, get the token, type it in and hit Enter."
      ]
    },
    {
      "cell_type": "code",
      "metadata": {
        "colab_type": "code",
        "id": "FFSD5VCneJA_",
        "outputId": "7c69e5bf-9d33-4fd2-f273-433f692b3fd5",
        "colab": {
          "base_uri": "https://localhost:8080/",
          "height": 34
        }
      },
      "source": [
        "from google.colab import auth\n",
        "auth.authenticate_user()\n",
        "print('Authenticated')"
      ],
      "execution_count": 191,
      "outputs": [
        {
          "output_type": "stream",
          "text": [
            "Authenticated\n"
          ],
          "name": "stdout"
        }
      ]
    },
    {
      "cell_type": "markdown",
      "metadata": {
        "id": "1mRdGVDffrJT",
        "colab_type": "text"
      },
      "source": [
        "### Step 5. Test your settings and check the IRA dataset"
      ]
    },
    {
      "cell_type": "markdown",
      "metadata": {
        "id": "W2pAN5OCyhnn",
        "colab_type": "text"
      },
      "source": [
        "Please fill in your Google Project ID below and run the cell.\n",
        "\n",
        "* `%%bigquery --project your_project_id` is a magic command to run BigQuery in Colab. To get `your_project_id`, please follow the instructions in **step 1**.\n",
        "\n",
        "* `project2-236400.twitter.IRA`  is the address of IRA Dataset."
      ]
    },
    {
      "cell_type": "code",
      "metadata": {
        "id": "sMuBAAxjkhiW",
        "colab_type": "code",
        "colab": {}
      },
      "source": [
        "# set the max display column\n",
        "import pandas as pd\n",
        "pd.set_option('display.max_colwidth', -1)"
      ],
      "execution_count": 0,
      "outputs": []
    },
    {
      "cell_type": "code",
      "metadata": {
        "colab_type": "code",
        "id": "_VY3UfMDVdtr",
        "outputId": "7f598d4e-3e25-4dc4-d23b-2fccfe17f4e4",
        "colab": {
          "base_uri": "https://localhost:8080/",
          "height": 338
        }
      },
      "source": [
        "%%bigquery --project w4111-project-2-239513\n",
        "SELECT *\n",
        "FROM `project2-236400.twitter.IRA` \n",
        "LIMIT 5"
      ],
      "execution_count": 0,
      "outputs": [
        {
          "output_type": "execute_result",
          "data": {
            "text/html": [
              "<div>\n",
              "<style scoped>\n",
              "    .dataframe tbody tr th:only-of-type {\n",
              "        vertical-align: middle;\n",
              "    }\n",
              "\n",
              "    .dataframe tbody tr th {\n",
              "        vertical-align: top;\n",
              "    }\n",
              "\n",
              "    .dataframe thead th {\n",
              "        text-align: right;\n",
              "    }\n",
              "</style>\n",
              "<table border=\"1\" class=\"dataframe\">\n",
              "  <thead>\n",
              "    <tr style=\"text-align: right;\">\n",
              "      <th></th>\n",
              "      <th>tweetid</th>\n",
              "      <th>userid</th>\n",
              "      <th>user_display_name</th>\n",
              "      <th>user_screen_name</th>\n",
              "      <th>user_reported_location</th>\n",
              "      <th>user_profile_description</th>\n",
              "      <th>user_profile_url</th>\n",
              "      <th>follower_count</th>\n",
              "      <th>following_count</th>\n",
              "      <th>account_creation_date</th>\n",
              "      <th>...</th>\n",
              "      <th>latitude</th>\n",
              "      <th>longitude</th>\n",
              "      <th>quote_count</th>\n",
              "      <th>reply_count</th>\n",
              "      <th>like_count</th>\n",
              "      <th>retweet_count</th>\n",
              "      <th>hashtags</th>\n",
              "      <th>urls</th>\n",
              "      <th>user_mentions</th>\n",
              "      <th>poll_choices</th>\n",
              "    </tr>\n",
              "  </thead>\n",
              "  <tbody>\n",
              "    <tr>\n",
              "      <th>0</th>\n",
              "      <td>719916264425185280</td>\n",
              "      <td>201334945</td>\n",
              "      <td>Андрей Манзолевский</td>\n",
              "      <td>Manzal_</td>\n",
              "      <td>Russia</td>\n",
              "      <td>Блогер, публицист, гражданин, начальник</td>\n",
              "      <td>http://t.co/lsUS2Frfjj</td>\n",
              "      <td>23245</td>\n",
              "      <td>3298</td>\n",
              "      <td>2010-10-11</td>\n",
              "      <td>...</td>\n",
              "      <td></td>\n",
              "      <td></td>\n",
              "      <td>0</td>\n",
              "      <td>1</td>\n",
              "      <td>0</td>\n",
              "      <td>0</td>\n",
              "      <td>[]</td>\n",
              "      <td>[]</td>\n",
              "      <td>[116529466]</td>\n",
              "      <td></td>\n",
              "    </tr>\n",
              "    <tr>\n",
              "      <th>1</th>\n",
              "      <td>750310622089314304</td>\n",
              "      <td>201334945</td>\n",
              "      <td>Андрей Манзолевский</td>\n",
              "      <td>Manzal_</td>\n",
              "      <td>Russia</td>\n",
              "      <td>Блогер, публицист, гражданин, начальник</td>\n",
              "      <td>http://t.co/lsUS2Frfjj</td>\n",
              "      <td>23245</td>\n",
              "      <td>3298</td>\n",
              "      <td>2010-10-11</td>\n",
              "      <td>...</td>\n",
              "      <td></td>\n",
              "      <td></td>\n",
              "      <td>0</td>\n",
              "      <td>0</td>\n",
              "      <td>1</td>\n",
              "      <td>0</td>\n",
              "      <td>[]</td>\n",
              "      <td>[]</td>\n",
              "      <td>[3178891317, 92821589]</td>\n",
              "      <td></td>\n",
              "    </tr>\n",
              "    <tr>\n",
              "      <th>2</th>\n",
              "      <td>151699476556414976</td>\n",
              "      <td>201334945</td>\n",
              "      <td>Андрей Манзолевский</td>\n",
              "      <td>Manzal_</td>\n",
              "      <td>Russia</td>\n",
              "      <td>Блогер, публицист, гражданин, начальник</td>\n",
              "      <td>http://t.co/lsUS2Frfjj</td>\n",
              "      <td>23245</td>\n",
              "      <td>3298</td>\n",
              "      <td>2010-10-11</td>\n",
              "      <td>...</td>\n",
              "      <td></td>\n",
              "      <td></td>\n",
              "      <td>0</td>\n",
              "      <td>0</td>\n",
              "      <td>0</td>\n",
              "      <td>0</td>\n",
              "      <td></td>\n",
              "      <td></td>\n",
              "      <td></td>\n",
              "      <td></td>\n",
              "    </tr>\n",
              "    <tr>\n",
              "      <th>3</th>\n",
              "      <td>515038385757368320</td>\n",
              "      <td>201334945</td>\n",
              "      <td>Андрей Манзолевский</td>\n",
              "      <td>Manzal_</td>\n",
              "      <td>Russia</td>\n",
              "      <td>Блогер, публицист, гражданин, начальник</td>\n",
              "      <td>http://t.co/lsUS2Frfjj</td>\n",
              "      <td>23245</td>\n",
              "      <td>3298</td>\n",
              "      <td>2010-10-11</td>\n",
              "      <td>...</td>\n",
              "      <td></td>\n",
              "      <td></td>\n",
              "      <td>0</td>\n",
              "      <td>0</td>\n",
              "      <td>0</td>\n",
              "      <td>0</td>\n",
              "      <td></td>\n",
              "      <td>[http://j.mp/1u0Q2Oq]</td>\n",
              "      <td></td>\n",
              "      <td></td>\n",
              "    </tr>\n",
              "    <tr>\n",
              "      <th>4</th>\n",
              "      <td>262522018640056320</td>\n",
              "      <td>201334945</td>\n",
              "      <td>Андрей Манзолевский</td>\n",
              "      <td>Manzal_</td>\n",
              "      <td>Russia</td>\n",
              "      <td>Блогер, публицист, гражданин, начальник</td>\n",
              "      <td>http://t.co/lsUS2Frfjj</td>\n",
              "      <td>23245</td>\n",
              "      <td>3298</td>\n",
              "      <td>2010-10-11</td>\n",
              "      <td>...</td>\n",
              "      <td></td>\n",
              "      <td></td>\n",
              "      <td>0</td>\n",
              "      <td>0</td>\n",
              "      <td>0</td>\n",
              "      <td>0</td>\n",
              "      <td></td>\n",
              "      <td></td>\n",
              "      <td></td>\n",
              "      <td></td>\n",
              "    </tr>\n",
              "  </tbody>\n",
              "</table>\n",
              "<p>5 rows × 31 columns</p>\n",
              "</div>"
            ],
            "text/plain": [
              "              tweetid     userid    user_display_name user_screen_name  \\\n",
              "0  719916264425185280  201334945  Андрей Манзолевский  Manzal_           \n",
              "1  750310622089314304  201334945  Андрей Манзолевский  Manzal_           \n",
              "2  151699476556414976  201334945  Андрей Манзолевский  Manzal_           \n",
              "3  515038385757368320  201334945  Андрей Манзолевский  Manzal_           \n",
              "4  262522018640056320  201334945  Андрей Манзолевский  Manzal_           \n",
              "\n",
              "  user_reported_location                 user_profile_description  \\\n",
              "0  Russia                 Блогер, публицист, гражданин, начальник   \n",
              "1  Russia                 Блогер, публицист, гражданин, начальник   \n",
              "2  Russia                 Блогер, публицист, гражданин, начальник   \n",
              "3  Russia                 Блогер, публицист, гражданин, начальник   \n",
              "4  Russia                 Блогер, публицист, гражданин, начальник   \n",
              "\n",
              "         user_profile_url  follower_count  following_count  \\\n",
              "0  http://t.co/lsUS2Frfjj  23245           3298              \n",
              "1  http://t.co/lsUS2Frfjj  23245           3298              \n",
              "2  http://t.co/lsUS2Frfjj  23245           3298              \n",
              "3  http://t.co/lsUS2Frfjj  23245           3298              \n",
              "4  http://t.co/lsUS2Frfjj  23245           3298              \n",
              "\n",
              "  account_creation_date  ... latitude longitude quote_count reply_count  \\\n",
              "0  2010-10-11            ...                     0           1            \n",
              "1  2010-10-11            ...                     0           0            \n",
              "2  2010-10-11            ...                     0           0            \n",
              "3  2010-10-11            ...                     0           0            \n",
              "4  2010-10-11            ...                     0           0            \n",
              "\n",
              "  like_count  retweet_count hashtags                   urls  \\\n",
              "0  0          0              []       []                      \n",
              "1  1          0              []       []                      \n",
              "2  0          0                                               \n",
              "3  0          0                       [http://j.mp/1u0Q2Oq]   \n",
              "4  0          0                                               \n",
              "\n",
              "            user_mentions poll_choices  \n",
              "0  [116529466]                          \n",
              "1  [3178891317, 92821589]               \n",
              "2                                       \n",
              "3                                       \n",
              "4                                       \n",
              "\n",
              "[5 rows x 31 columns]"
            ]
          },
          "metadata": {
            "tags": []
          },
          "execution_count": 4
        }
      ]
    },
    {
      "cell_type": "markdown",
      "metadata": {
        "id": "dQK1X6zUf2UY",
        "colab_type": "text"
      },
      "source": [
        "## Question 1"
      ]
    },
    {
      "cell_type": "markdown",
      "metadata": {
        "id": "zjvXmHvPgK59",
        "colab_type": "text"
      },
      "source": [
        "Find the `id` and `text` of Tweets that contain  \"MakeAmericaGreatAgain\" **and** \"Trump\" (both **case-insensitive**) .  \n",
        "\n",
        "For example:\n",
        "\n",
        "* \"#VoteTrump and lets all help #**Trump** #**makeamericagreatagain**\" is a match\n",
        "* \"#**Trump** This was our moment. Together, we will **make America great again**!\" is not a match\n",
        "\n",
        "Your anwser should be a single query. You need to run it and get the output containing the columns:\n",
        "- id (tweetid of the tweets)\n",
        "- text (tweet_text of the tweets)"
      ]
    },
    {
      "cell_type": "markdown",
      "metadata": {
        "id": "BmyMP10ChEXF",
        "colab_type": "text"
      },
      "source": [
        "###Write your SQL below"
      ]
    },
    {
      "cell_type": "code",
      "metadata": {
        "colab_type": "code",
        "id": "XcK0eYPly0cH",
        "outputId": "58e3b34d-01ed-4369-b8f3-0b89b426b8b2",
        "colab": {
          "base_uri": "https://localhost:8080/",
          "height": 2224
        }
      },
      "source": [
        "%%bigquery --project w4111-project-2-239513\n",
        "SELECT tweetid, tweet_text \n",
        "FROM `project2-236400.twitter.IRA` \n",
        "WHERE tweet_text  like \"%MakeAmericaGreatAgain%\" or \n",
        "      tweet_text  like \"%Trump%\""
      ],
      "execution_count": 0,
      "outputs": [
        {
          "output_type": "execute_result",
          "data": {
            "text/html": [
              "<div>\n",
              "<style scoped>\n",
              "    .dataframe tbody tr th:only-of-type {\n",
              "        vertical-align: middle;\n",
              "    }\n",
              "\n",
              "    .dataframe tbody tr th {\n",
              "        vertical-align: top;\n",
              "    }\n",
              "\n",
              "    .dataframe thead th {\n",
              "        text-align: right;\n",
              "    }\n",
              "</style>\n",
              "<table border=\"1\" class=\"dataframe\">\n",
              "  <thead>\n",
              "    <tr style=\"text-align: right;\">\n",
              "      <th></th>\n",
              "      <th>tweetid</th>\n",
              "      <th>tweet_text</th>\n",
              "    </tr>\n",
              "  </thead>\n",
              "  <tbody>\n",
              "    <tr>\n",
              "      <th>0</th>\n",
              "      <td>759390739046563840</td>\n",
              "      <td>#IHatePokemonGoBecause this is pro Trump</td>\n",
              "    </tr>\n",
              "    <tr>\n",
              "      <th>1</th>\n",
              "      <td>725860620805926913</td>\n",
              "      <td>#SanJose Protests Expected at Donald Trump's Bay Area Event</td>\n",
              "    </tr>\n",
              "    <tr>\n",
              "      <th>2</th>\n",
              "      <td>752938883004850177</td>\n",
              "      <td>#politics Sanders endorses Clinton, pledges to help defeat Trump</td>\n",
              "    </tr>\n",
              "    <tr>\n",
              "      <th>3</th>\n",
              "      <td>740966934955462657</td>\n",
              "      <td>House Republicans seek to shift focus from Trump to security https://t.co/EdvammRPyk</td>\n",
              "    </tr>\n",
              "    <tr>\n",
              "      <th>4</th>\n",
              "      <td>707473377720606720</td>\n",
              "      <td>The Latest: Donald Trump wins Hawaii Republican caucuses  #politics</td>\n",
              "    </tr>\n",
              "    <tr>\n",
              "      <th>5</th>\n",
              "      <td>681669833407074304</td>\n",
              "      <td>Trump attacks publisher of largest New Hampshire newspaper  #politics</td>\n",
              "    </tr>\n",
              "    <tr>\n",
              "      <th>6</th>\n",
              "      <td>692266474707275776</td>\n",
              "      <td>#politics How Rubio plans to take on Trump: Attrition</td>\n",
              "    </tr>\n",
              "    <tr>\n",
              "      <th>7</th>\n",
              "      <td>625727514258747392</td>\n",
              "      <td>#politics Disgruntled GOP voters provide the Trump bump</td>\n",
              "    </tr>\n",
              "    <tr>\n",
              "      <th>8</th>\n",
              "      <td>785185781031718912</td>\n",
              "      <td>A fact-checker guide to sex charges that Donald Trump might raise https://t.co/FXMyYbpIFK</td>\n",
              "    </tr>\n",
              "    <tr>\n",
              "      <th>9</th>\n",
              "      <td>655039303777521664</td>\n",
              "      <td>#politics Trump: 9/11 happened on Bush's watch</td>\n",
              "    </tr>\n",
              "    <tr>\n",
              "      <th>10</th>\n",
              "      <td>788061721734762497</td>\n",
              "      <td>Dodgers’ Adrian Gonzalez Refused To Stay In Trump Hotel In Chicago Earlier This Season https://t.co/LweVnfGMwK</td>\n",
              "    </tr>\n",
              "    <tr>\n",
              "      <th>11</th>\n",
              "      <td>615700064275542017</td>\n",
              "      <td>Korecki: Trump is filled with fire — but his defense of immigrant remarks is half-baked: Follow @natashakorecki Presid...  #Chicago #news</td>\n",
              "    </tr>\n",
              "    <tr>\n",
              "      <th>12</th>\n",
              "      <td>844330860715364353</td>\n",
              "      <td>Trump signs NASA funding bill, ponders sending Congress to space https://t.co/DFO9b7YanX https://t.co/BVGUDSYbbs</td>\n",
              "    </tr>\n",
              "    <tr>\n",
              "      <th>13</th>\n",
              "      <td>856020139120226304</td>\n",
              "      <td>Trump’s approval ratings sit at record lows but base stays steady, poll shows https://t.co/JFySN0ZgXZ https://t.co/fA64uK93DC</td>\n",
              "    </tr>\n",
              "    <tr>\n",
              "      <th>14</th>\n",
              "      <td>842853867083747328</td>\n",
              "      <td>Sen. Corker talks Trump's visit to Nashville https://t.co/sd8oKcgEa1 https://t.co/pg5TRwq968</td>\n",
              "    </tr>\n",
              "    <tr>\n",
              "      <th>15</th>\n",
              "      <td>853362421242744832</td>\n",
              "      <td>At least 4 arrested in California pro and anti-Trump rallies https://t.co/dYw4Qw7kZz https://t.co/wTBZ6IY7Zn</td>\n",
              "    </tr>\n",
              "    <tr>\n",
              "      <th>16</th>\n",
              "      <td>811840552794783744</td>\n",
              "      <td>Clinton tops Trump in final national vote tally https://t.co/RuMkdTyrqE https://t.co/XH5r44BwQm</td>\n",
              "    </tr>\n",
              "    <tr>\n",
              "      <th>17</th>\n",
              "      <td>832366596723265536</td>\n",
              "      <td>Trump's Israel envoy pick faces off with Democrats, protesters https://t.co/f4PEJNz9x1</td>\n",
              "    </tr>\n",
              "    <tr>\n",
              "      <th>18</th>\n",
              "      <td>864489004359483397</td>\n",
              "      <td>Conservative media coverage of Trump's classified disclosure will make your head spin https://t.co/QKjv4OyEZB</td>\n",
              "    </tr>\n",
              "    <tr>\n",
              "      <th>19</th>\n",
              "      <td>852995949702111232</td>\n",
              "      <td>California judge questions Trump's sanctuary city order https://t.co/jowGKGaDWl</td>\n",
              "    </tr>\n",
              "    <tr>\n",
              "      <th>20</th>\n",
              "      <td>884483236927340544</td>\n",
              "      <td>Trump, Putin meet for the first time: Here's what they discussed https://t.co/padcB7Ucpe</td>\n",
              "    </tr>\n",
              "    <tr>\n",
              "      <th>21</th>\n",
              "      <td>832335408348405761</td>\n",
              "      <td>Maine's Republican governor says 'TV show's over' for Trump https://t.co/WRZ1azGe8v</td>\n",
              "    </tr>\n",
              "    <tr>\n",
              "      <th>22</th>\n",
              "      <td>849715145534263296</td>\n",
              "      <td>Trump's tough talk on China https://t.co/1m5dfMsgB0</td>\n",
              "    </tr>\n",
              "    <tr>\n",
              "      <th>23</th>\n",
              "      <td>866343192249106435</td>\n",
              "      <td>A black congressman called for Trump's impeachment. Lynching threats followed, he said. https://t.co/6ElIhofzi6</td>\n",
              "    </tr>\n",
              "    <tr>\n",
              "      <th>24</th>\n",
              "      <td>886623809553526784</td>\n",
              "      <td>White House unveils ‘Made in America’ week, though many Trump products are made overseas https://t.co/ihS8pISb25</td>\n",
              "    </tr>\n",
              "    <tr>\n",
              "      <th>25</th>\n",
              "      <td>865540669296615424</td>\n",
              "      <td>Amid turmoil in the U.S., can Trump's first international trip turn things around? https://t.co/OEYggHYDJP</td>\n",
              "    </tr>\n",
              "    <tr>\n",
              "      <th>26</th>\n",
              "      <td>870252185325629440</td>\n",
              "      <td>James Comey is jumping into the fire by testifying to Congress about Trump. What's in it for him? https://t.co/AuT27DfbRn</td>\n",
              "    </tr>\n",
              "    <tr>\n",
              "      <th>27</th>\n",
              "      <td>867453255458197505</td>\n",
              "      <td>Voters are getting a phone message from President Trump in Montana, where robo-calls are illegal https://t.co/f6KeebapYP</td>\n",
              "    </tr>\n",
              "    <tr>\n",
              "      <th>28</th>\n",
              "      <td>830999602883076096</td>\n",
              "      <td>Trump's national security adviser Flynn trying to survive crisis https://t.co/zmPUIMKn0O</td>\n",
              "    </tr>\n",
              "    <tr>\n",
              "      <th>29</th>\n",
              "      <td>863149703080402945</td>\n",
              "      <td>Ivanka Trump donates half the advance from her new book https://t.co/hOlSklpqjp</td>\n",
              "    </tr>\n",
              "    <tr>\n",
              "      <th>...</th>\n",
              "      <td>...</td>\n",
              "      <td>...</td>\n",
              "    </tr>\n",
              "    <tr>\n",
              "      <th>243318</th>\n",
              "      <td>840293888598396928</td>\n",
              "      <td>RT @The_Trump_Train: How to Divide a Country.   vs  How to unify a Country. https://t.co/ByvEIwmh9V</td>\n",
              "    </tr>\n",
              "    <tr>\n",
              "      <th>243319</th>\n",
              "      <td>845891375262523392</td>\n",
              "      <td>RT @Koxinga8: Sarah Palin says Trump should get rid of Comey due to Clinton ties : https://t.co/kaWWEE6jyR via @AOL</td>\n",
              "    </tr>\n",
              "    <tr>\n",
              "      <th>243320</th>\n",
              "      <td>836316160547303425</td>\n",
              "      <td>RT @TrumpSuperPAC: George W. Bush says he believes in free press. Who doesn't? We don't have free press. We have FAKE NEWS owned by corpora…</td>\n",
              "    </tr>\n",
              "    <tr>\n",
              "      <th>243321</th>\n",
              "      <td>777536944330969088</td>\n",
              "      <td>RT @CarmineZozzora: Any woman who shares her life with a rapist and tweets this is unfit for office.  #TrumpPence16 #MAGA @FoxNews @CNN htt…</td>\n",
              "    </tr>\n",
              "    <tr>\n",
              "      <th>243322</th>\n",
              "      <td>775617932135202816</td>\n",
              "      <td>RT @Miami4Trump: SUCKS TO BE HER! 😂 NO WAY She'll EVER Drop Out. Hill Has Enough #BodyBags For All Those Who Gets In Her Way #MAGA  https:/…</td>\n",
              "    </tr>\n",
              "    <tr>\n",
              "      <th>243323</th>\n",
              "      <td>849301243159818240</td>\n",
              "      <td>RT @Conservatexian: New post: \"Susan Rice DENIES Ordering Intel Community To Produce ‘Spreadsheets’ Involving Trump [VIDEO]\" https://t.co/s…</td>\n",
              "    </tr>\n",
              "    <tr>\n",
              "      <th>243324</th>\n",
              "      <td>827430269808422913</td>\n",
              "      <td>RT @luvinlife1967: @VoteTrumpPics  @McConaughey  @CarmineZozzora @LindaSuhler I will buy his movies &amp;amp; not boycott him, at least he's not a…</td>\n",
              "    </tr>\n",
              "    <tr>\n",
              "      <th>243325</th>\n",
              "      <td>833422255212417024</td>\n",
              "      <td>RT @JoleneKazmierc1: Rush did a great job on Fox this am Trump is proud of you I'm sure 👏👏👏👏</td>\n",
              "    </tr>\n",
              "    <tr>\n",
              "      <th>243326</th>\n",
              "      <td>777884243598807041</td>\n",
              "      <td>RT @Workers4Trump: Hillary Clinton gives press conference.  Brings notebook to answer \"Random\" questions? Hair covering ears?  This puppet…</td>\n",
              "    </tr>\n",
              "    <tr>\n",
              "      <th>243327</th>\n",
              "      <td>828716026837794816</td>\n",
              "      <td>RT @LiberatedCit: #mondaymotivation #tcot  More than 12,000 tweets have called for Trump's assassination since the inauguration https://t.c…</td>\n",
              "    </tr>\n",
              "    <tr>\n",
              "      <th>243328</th>\n",
              "      <td>849544112386838528</td>\n",
              "      <td>RT @Conservatexian: News post: \"US-China summit at Trump's resort polishes Mar-a-Lago brand\" https://t.co/rhXY63Gj3p</td>\n",
              "    </tr>\n",
              "    <tr>\n",
              "      <th>243329</th>\n",
              "      <td>796142877051146240</td>\n",
              "      <td>RT @Conservatexian: New post: \"A.J. Delgado: Florida ‘in the Bag’ for Trump; Latino Vote Responding to Anti-Corruption Message\" https://t.c…</td>\n",
              "    </tr>\n",
              "    <tr>\n",
              "      <th>243330</th>\n",
              "      <td>825664156636430336</td>\n",
              "      <td>RT @ScotForLiberty: The Left are now admitting they want to flood the US with folk from states that want to destroy the West. Trump pulls b…</td>\n",
              "    </tr>\n",
              "    <tr>\n",
              "      <th>243331</th>\n",
              "      <td>849544073186865152</td>\n",
              "      <td>RT @wavedancer43: @Italians4Trump @KimHarm63660098 Stefano, beautiful design worn by The First Lady.</td>\n",
              "    </tr>\n",
              "    <tr>\n",
              "      <th>243332</th>\n",
              "      <td>786670401787138049</td>\n",
              "      <td>RT @Trump4Hope: @ScottPresler https://t.co/sUp9jTuUvB</td>\n",
              "    </tr>\n",
              "    <tr>\n",
              "      <th>243333</th>\n",
              "      <td>830236271834497028</td>\n",
              "      <td>RT @Chatzworth1: I wonder what \"Chris Wallace\" will say if next week #PresidentTrump rescinds his EO &amp;amp; replaces it with a total immigration…</td>\n",
              "    </tr>\n",
              "    <tr>\n",
              "      <th>243334</th>\n",
              "      <td>793344095573815296</td>\n",
              "      <td>RT @NewtTrump: BOOM! Newt lays out the RICO case against the Clinton Foundation: \"The Clinton family business is a corporation engaged in o…</td>\n",
              "    </tr>\n",
              "    <tr>\n",
              "      <th>243335</th>\n",
              "      <td>793890485307748352</td>\n",
              "      <td>RT @ConstanceQueen8: AMAZING VIDEO : Hispanics for Trump in Miami Storm the Polls, HORNS BLASTING, Shouting \"USA! TRUMP!\" https://t.co/GTui…</td>\n",
              "    </tr>\n",
              "    <tr>\n",
              "      <th>243336</th>\n",
              "      <td>776026499308724224</td>\n",
              "      <td>RT @Lagartija_Nix: Breaking : Trump Takes 20 POINT LEAD with Independent Voters CRUSHING CROOKED HILLARY  https://t.co/XbtaTO9afn</td>\n",
              "    </tr>\n",
              "    <tr>\n",
              "      <th>243337</th>\n",
              "      <td>776965666150739969</td>\n",
              "      <td>RT @Carolde: #TrumpPresser  #MAGA https://t.co/TSNtgI12g3</td>\n",
              "    </tr>\n",
              "    <tr>\n",
              "      <th>243338</th>\n",
              "      <td>833300203952287744</td>\n",
              "      <td>RT @mitchellvii: Is the Media biased?  Did they ever speculate if Obama would last a full term?  With Trump they do it daily.</td>\n",
              "    </tr>\n",
              "    <tr>\n",
              "      <th>243339</th>\n",
              "      <td>784061555927310336</td>\n",
              "      <td>RT @TeamTrumpAZ: Prevent Terorism #OnlyYouCanPreventHillaryClinton #Bodycount https://t.co/XqgMF6oxLA</td>\n",
              "    </tr>\n",
              "    <tr>\n",
              "      <th>243340</th>\n",
              "      <td>797592917217017856</td>\n",
              "      <td>RT @ChiTownCheese: The spread @realDonaldTrump is providing officers at #TrumpProtest in #Chicago #ThankYou https://t.co/AyN5IRK2YL</td>\n",
              "    </tr>\n",
              "    <tr>\n",
              "      <th>243341</th>\n",
              "      <td>777220217235709953</td>\n",
              "      <td>RT @Workers4Trump: PROOF That Hillary Clinton and Chris Matthews were involved in  #birtherism https://t.co/ajukasTZL8</td>\n",
              "    </tr>\n",
              "    <tr>\n",
              "      <th>243342</th>\n",
              "      <td>788793142011125760</td>\n",
              "      <td>RT @txcelat: #Trumpsarmy.  HE SHOULD TELL THE TRUTH LIL MARCO https://t.co/OU0GZRyc9V</td>\n",
              "    </tr>\n",
              "    <tr>\n",
              "      <th>243343</th>\n",
              "      <td>827498666663489536</td>\n",
              "      <td>RT @TheMarkRomano: Left-wing media whore, Khizr Khan, says Trump supporters will incite violence in order to use force on \"resistance\"  htt…</td>\n",
              "    </tr>\n",
              "    <tr>\n",
              "      <th>243344</th>\n",
              "      <td>825482063893688325</td>\n",
              "      <td>RT @FoxNews: .@JesseBWatters tracks down @repjohnlewis to ask about #Trump criticism. Watch @WattersWorld tonight at 8p ET. https://t.co/Ak…</td>\n",
              "    </tr>\n",
              "    <tr>\n",
              "      <th>243345</th>\n",
              "      <td>824751857792929792</td>\n",
              "      <td>RT @AlRobins2015: Why did this guy think he would survive a Trump Admn? #DrainTheSwamp  https://t.co/GPhhHWbIej</td>\n",
              "    </tr>\n",
              "    <tr>\n",
              "      <th>243346</th>\n",
              "      <td>843883437568221185</td>\n",
              "      <td>RT @PressSec: House Intel Chair Nunes: No Evidence Of Trump-Russia Collusion, Clear Effort To Undermine President Through Leaks https://t.c…</td>\n",
              "    </tr>\n",
              "    <tr>\n",
              "      <th>243347</th>\n",
              "      <td>796142378155438084</td>\n",
              "      <td>RT @thehill: Massachusetts GOP governor didn't vote for Trump https://t.co/ocu3mz9r8X https://t.co/iAR7qKDpFz</td>\n",
              "    </tr>\n",
              "  </tbody>\n",
              "</table>\n",
              "<p>243348 rows × 2 columns</p>\n",
              "</div>"
            ],
            "text/plain": [
              "                   tweetid  \\\n",
              "0       759390739046563840   \n",
              "1       725860620805926913   \n",
              "2       752938883004850177   \n",
              "3       740966934955462657   \n",
              "4       707473377720606720   \n",
              "5       681669833407074304   \n",
              "6       692266474707275776   \n",
              "7       625727514258747392   \n",
              "8       785185781031718912   \n",
              "9       655039303777521664   \n",
              "10      788061721734762497   \n",
              "11      615700064275542017   \n",
              "12      844330860715364353   \n",
              "13      856020139120226304   \n",
              "14      842853867083747328   \n",
              "15      853362421242744832   \n",
              "16      811840552794783744   \n",
              "17      832366596723265536   \n",
              "18      864489004359483397   \n",
              "19      852995949702111232   \n",
              "20      884483236927340544   \n",
              "21      832335408348405761   \n",
              "22      849715145534263296   \n",
              "23      866343192249106435   \n",
              "24      886623809553526784   \n",
              "25      865540669296615424   \n",
              "26      870252185325629440   \n",
              "27      867453255458197505   \n",
              "28      830999602883076096   \n",
              "29      863149703080402945   \n",
              "...                    ...   \n",
              "243318  840293888598396928   \n",
              "243319  845891375262523392   \n",
              "243320  836316160547303425   \n",
              "243321  777536944330969088   \n",
              "243322  775617932135202816   \n",
              "243323  849301243159818240   \n",
              "243324  827430269808422913   \n",
              "243325  833422255212417024   \n",
              "243326  777884243598807041   \n",
              "243327  828716026837794816   \n",
              "243328  849544112386838528   \n",
              "243329  796142877051146240   \n",
              "243330  825664156636430336   \n",
              "243331  849544073186865152   \n",
              "243332  786670401787138049   \n",
              "243333  830236271834497028   \n",
              "243334  793344095573815296   \n",
              "243335  793890485307748352   \n",
              "243336  776026499308724224   \n",
              "243337  776965666150739969   \n",
              "243338  833300203952287744   \n",
              "243339  784061555927310336   \n",
              "243340  797592917217017856   \n",
              "243341  777220217235709953   \n",
              "243342  788793142011125760   \n",
              "243343  827498666663489536   \n",
              "243344  825482063893688325   \n",
              "243345  824751857792929792   \n",
              "243346  843883437568221185   \n",
              "243347  796142378155438084   \n",
              "\n",
              "                                                                                                                                              tweet_text  \n",
              "0       #IHatePokemonGoBecause this is pro Trump                                                                                                          \n",
              "1       #SanJose Protests Expected at Donald Trump's Bay Area Event                                                                                       \n",
              "2       #politics Sanders endorses Clinton, pledges to help defeat Trump                                                                                  \n",
              "3       House Republicans seek to shift focus from Trump to security https://t.co/EdvammRPyk                                                              \n",
              "4       The Latest: Donald Trump wins Hawaii Republican caucuses  #politics                                                                               \n",
              "5       Trump attacks publisher of largest New Hampshire newspaper  #politics                                                                             \n",
              "6       #politics How Rubio plans to take on Trump: Attrition                                                                                             \n",
              "7       #politics Disgruntled GOP voters provide the Trump bump                                                                                           \n",
              "8       A fact-checker guide to sex charges that Donald Trump might raise https://t.co/FXMyYbpIFK                                                         \n",
              "9       #politics Trump: 9/11 happened on Bush's watch                                                                                                    \n",
              "10      Dodgers’ Adrian Gonzalez Refused To Stay In Trump Hotel In Chicago Earlier This Season https://t.co/LweVnfGMwK                                    \n",
              "11      Korecki: Trump is filled with fire — but his defense of immigrant remarks is half-baked: Follow @natashakorecki Presid...  #Chicago #news         \n",
              "12      Trump signs NASA funding bill, ponders sending Congress to space https://t.co/DFO9b7YanX https://t.co/BVGUDSYbbs                                  \n",
              "13      Trump’s approval ratings sit at record lows but base stays steady, poll shows https://t.co/JFySN0ZgXZ https://t.co/fA64uK93DC                     \n",
              "14      Sen. Corker talks Trump's visit to Nashville https://t.co/sd8oKcgEa1 https://t.co/pg5TRwq968                                                      \n",
              "15      At least 4 arrested in California pro and anti-Trump rallies https://t.co/dYw4Qw7kZz https://t.co/wTBZ6IY7Zn                                      \n",
              "16      Clinton tops Trump in final national vote tally https://t.co/RuMkdTyrqE https://t.co/XH5r44BwQm                                                   \n",
              "17      Trump's Israel envoy pick faces off with Democrats, protesters https://t.co/f4PEJNz9x1                                                            \n",
              "18      Conservative media coverage of Trump's classified disclosure will make your head spin https://t.co/QKjv4OyEZB                                     \n",
              "19      California judge questions Trump's sanctuary city order https://t.co/jowGKGaDWl                                                                   \n",
              "20      Trump, Putin meet for the first time: Here's what they discussed https://t.co/padcB7Ucpe                                                          \n",
              "21      Maine's Republican governor says 'TV show's over' for Trump https://t.co/WRZ1azGe8v                                                               \n",
              "22      Trump's tough talk on China https://t.co/1m5dfMsgB0                                                                                               \n",
              "23      A black congressman called for Trump's impeachment. Lynching threats followed, he said. https://t.co/6ElIhofzi6                                   \n",
              "24      White House unveils ‘Made in America’ week, though many Trump products are made overseas https://t.co/ihS8pISb25                                  \n",
              "25      Amid turmoil in the U.S., can Trump's first international trip turn things around? https://t.co/OEYggHYDJP                                        \n",
              "26      James Comey is jumping into the fire by testifying to Congress about Trump. What's in it for him? https://t.co/AuT27DfbRn                         \n",
              "27      Voters are getting a phone message from President Trump in Montana, where robo-calls are illegal https://t.co/f6KeebapYP                          \n",
              "28      Trump's national security adviser Flynn trying to survive crisis https://t.co/zmPUIMKn0O                                                          \n",
              "29      Ivanka Trump donates half the advance from her new book https://t.co/hOlSklpqjp                                                                   \n",
              "...                                                                                 ...                                                                   \n",
              "243318  RT @The_Trump_Train: How to Divide a Country.   vs  How to unify a Country. https://t.co/ByvEIwmh9V                                               \n",
              "243319  RT @Koxinga8: Sarah Palin says Trump should get rid of Comey due to Clinton ties : https://t.co/kaWWEE6jyR via @AOL                               \n",
              "243320  RT @TrumpSuperPAC: George W. Bush says he believes in free press. Who doesn't? We don't have free press. We have FAKE NEWS owned by corpora…      \n",
              "243321  RT @CarmineZozzora: Any woman who shares her life with a rapist and tweets this is unfit for office.  #TrumpPence16 #MAGA @FoxNews @CNN htt…      \n",
              "243322  RT @Miami4Trump: SUCKS TO BE HER! 😂 NO WAY She'll EVER Drop Out. Hill Has Enough #BodyBags For All Those Who Gets In Her Way #MAGA  https:/…      \n",
              "243323  RT @Conservatexian: New post: \"Susan Rice DENIES Ordering Intel Community To Produce ‘Spreadsheets’ Involving Trump [VIDEO]\" https://t.co/s…      \n",
              "243324  RT @luvinlife1967: @VoteTrumpPics  @McConaughey  @CarmineZozzora @LindaSuhler I will buy his movies &amp; not boycott him, at least he's not a…   \n",
              "243325  RT @JoleneKazmierc1: Rush did a great job on Fox this am Trump is proud of you I'm sure 👏👏👏👏                                                      \n",
              "243326  RT @Workers4Trump: Hillary Clinton gives press conference.  Brings notebook to answer \"Random\" questions? Hair covering ears?  This puppet…       \n",
              "243327  RT @LiberatedCit: #mondaymotivation #tcot  More than 12,000 tweets have called for Trump's assassination since the inauguration https://t.c…      \n",
              "243328  RT @Conservatexian: News post: \"US-China summit at Trump's resort polishes Mar-a-Lago brand\" https://t.co/rhXY63Gj3p                              \n",
              "243329  RT @Conservatexian: New post: \"A.J. Delgado: Florida ‘in the Bag’ for Trump; Latino Vote Responding to Anti-Corruption Message\" https://t.c…      \n",
              "243330  RT @ScotForLiberty: The Left are now admitting they want to flood the US with folk from states that want to destroy the West. Trump pulls b…      \n",
              "243331  RT @wavedancer43: @Italians4Trump @KimHarm63660098 Stefano, beautiful design worn by The First Lady.                                              \n",
              "243332  RT @Trump4Hope: @ScottPresler https://t.co/sUp9jTuUvB                                                                                             \n",
              "243333  RT @Chatzworth1: I wonder what \"Chris Wallace\" will say if next week #PresidentTrump rescinds his EO &amp; replaces it with a total immigration…  \n",
              "243334  RT @NewtTrump: BOOM! Newt lays out the RICO case against the Clinton Foundation: \"The Clinton family business is a corporation engaged in o…      \n",
              "243335  RT @ConstanceQueen8: AMAZING VIDEO : Hispanics for Trump in Miami Storm the Polls, HORNS BLASTING, Shouting \"USA! TRUMP!\" https://t.co/GTui…      \n",
              "243336  RT @Lagartija_Nix: Breaking : Trump Takes 20 POINT LEAD with Independent Voters CRUSHING CROOKED HILLARY  https://t.co/XbtaTO9afn                 \n",
              "243337  RT @Carolde: #TrumpPresser  #MAGA https://t.co/TSNtgI12g3                                                                                         \n",
              "243338  RT @mitchellvii: Is the Media biased?  Did they ever speculate if Obama would last a full term?  With Trump they do it daily.                     \n",
              "243339  RT @TeamTrumpAZ: Prevent Terorism #OnlyYouCanPreventHillaryClinton #Bodycount https://t.co/XqgMF6oxLA                                             \n",
              "243340  RT @ChiTownCheese: The spread @realDonaldTrump is providing officers at #TrumpProtest in #Chicago #ThankYou https://t.co/AyN5IRK2YL               \n",
              "243341  RT @Workers4Trump: PROOF That Hillary Clinton and Chris Matthews were involved in  #birtherism https://t.co/ajukasTZL8                            \n",
              "243342  RT @txcelat: #Trumpsarmy.  HE SHOULD TELL THE TRUTH LIL MARCO https://t.co/OU0GZRyc9V                                                             \n",
              "243343  RT @TheMarkRomano: Left-wing media whore, Khizr Khan, says Trump supporters will incite violence in order to use force on \"resistance\"  htt…      \n",
              "243344  RT @FoxNews: .@JesseBWatters tracks down @repjohnlewis to ask about #Trump criticism. Watch @WattersWorld tonight at 8p ET. https://t.co/Ak…      \n",
              "243345  RT @AlRobins2015: Why did this guy think he would survive a Trump Admn? #DrainTheSwamp  https://t.co/GPhhHWbIej                                   \n",
              "243346  RT @PressSec: House Intel Chair Nunes: No Evidence Of Trump-Russia Collusion, Clear Effort To Undermine President Through Leaks https://t.c…      \n",
              "243347  RT @thehill: Massachusetts GOP governor didn't vote for Trump https://t.co/ocu3mz9r8X https://t.co/iAR7qKDpFz                                     \n",
              "\n",
              "[243348 rows x 2 columns]"
            ]
          },
          "metadata": {
            "tags": []
          },
          "execution_count": 16
        }
      ]
    },
    {
      "cell_type": "markdown",
      "metadata": {
        "id": "LCUKn8wfgRWF",
        "colab_type": "text"
      },
      "source": [
        "## Question 2\n",
        "\"**MakeAmericaGreatAgain**\" (often abbreviated as MAGA) is a campaign slogan used in American politics that was popularized by Donald Trump in his successful 2016 presidential campaign.\n",
        "\n",
        "Let's Find out Top 5 month gets the maximum mention of this slogan\n",
        "\"MakeAmericaGreatAgain\"(**case-insensitive**) in `tweet_text` .\n",
        "\n",
        "Your anwser should be a single query. You need to run it and get the output containing the columns:\n",
        "- year\n",
        "- month\n",
        "- num (number of tweets mentioned the slogan in the month)"
      ]
    },
    {
      "cell_type": "markdown",
      "metadata": {
        "id": "NRKNrrWAhbaQ",
        "colab_type": "text"
      },
      "source": [
        "###Write your SQL below"
      ]
    },
    {
      "cell_type": "code",
      "metadata": {
        "id": "-7pUZJg8QTXn",
        "colab_type": "code",
        "outputId": "bf7aaeb7-33ec-451e-bbb4-334012cd8e6f",
        "colab": {
          "base_uri": "https://localhost:8080/",
          "height": 204
        }
      },
      "source": [
        "%%bigquery --project w4111-project-2-239513\n",
        "SELECT\n",
        "  EXTRACT(YEAR FROM tweet_time) AS year,\n",
        "  EXTRACT(MONTH FROM tweet_time) AS month,\n",
        "  count(*) as num\n",
        "FROM `project2-236400.twitter.IRA`\n",
        "WHERE tweet_text  like \"%MAGA%\" or \n",
        "      tweet_text  like \"%MakeAmericaGreatAgain%\"\n",
        "group by year, month \n",
        "order by num desc\n",
        "limit 5\n"
      ],
      "execution_count": 0,
      "outputs": [
        {
          "output_type": "execute_result",
          "data": {
            "text/html": [
              "<div>\n",
              "<style scoped>\n",
              "    .dataframe tbody tr th:only-of-type {\n",
              "        vertical-align: middle;\n",
              "    }\n",
              "\n",
              "    .dataframe tbody tr th {\n",
              "        vertical-align: top;\n",
              "    }\n",
              "\n",
              "    .dataframe thead th {\n",
              "        text-align: right;\n",
              "    }\n",
              "</style>\n",
              "<table border=\"1\" class=\"dataframe\">\n",
              "  <thead>\n",
              "    <tr style=\"text-align: right;\">\n",
              "      <th></th>\n",
              "      <th>year</th>\n",
              "      <th>month</th>\n",
              "      <th>num</th>\n",
              "    </tr>\n",
              "  </thead>\n",
              "  <tbody>\n",
              "    <tr>\n",
              "      <th>0</th>\n",
              "      <td>2017</td>\n",
              "      <td>8</td>\n",
              "      <td>6587</td>\n",
              "    </tr>\n",
              "    <tr>\n",
              "      <th>1</th>\n",
              "      <td>2017</td>\n",
              "      <td>3</td>\n",
              "      <td>6352</td>\n",
              "    </tr>\n",
              "    <tr>\n",
              "      <th>2</th>\n",
              "      <td>2017</td>\n",
              "      <td>4</td>\n",
              "      <td>5888</td>\n",
              "    </tr>\n",
              "    <tr>\n",
              "      <th>3</th>\n",
              "      <td>2017</td>\n",
              "      <td>5</td>\n",
              "      <td>2286</td>\n",
              "    </tr>\n",
              "    <tr>\n",
              "      <th>4</th>\n",
              "      <td>2017</td>\n",
              "      <td>6</td>\n",
              "      <td>1999</td>\n",
              "    </tr>\n",
              "  </tbody>\n",
              "</table>\n",
              "</div>"
            ],
            "text/plain": [
              "   year  month   num\n",
              "0  2017  8      6587\n",
              "1  2017  3      6352\n",
              "2  2017  4      5888\n",
              "3  2017  5      2286\n",
              "4  2017  6      1999"
            ]
          },
          "metadata": {
            "tags": []
          },
          "execution_count": 28
        }
      ]
    },
    {
      "cell_type": "markdown",
      "metadata": {
        "id": "MnJprqBAgYft",
        "colab_type": "text"
      },
      "source": [
        "## Question 3   \n",
        "**Let's construct the Graph!**\n",
        "\n",
        "Tweets and retweets can be used to construct the graph where each row is an edge between `userid` and `retweet_userid`. Create a table “Graph” with column names src and dst which stores the edge list of the graph. You must store only the distinct edges in the table. One user might retweet another user's tweet more than one time. In this case, you should only save the edge once (i.e. only one row in the graph table).\n",
        "\n",
        "This question doesn't need output. You must save this table since you will be using it for the next few questions. Your table should contain the following columns:\n",
        "- src (**retweet_userid**)\n",
        "- dst (**userid**)\n",
        "\n",
        "\n",
        "\n",
        "---\n",
        "\n",
        "\n",
        "To save a table, issue a regular query using :\n",
        "\n",
        "``CREATE OR REPLACE TABLE dataset_name.table_name AS SELECT ...``\n",
        "\n",
        "For example, \n",
        "    ```\n",
        "    CREATE OR REPLACE TABLE `4111dataset.tmp` AS\n",
        "    SELECT *\n",
        "    FROM `project2-236400.twitter.IRA` \n",
        "    LIMIT 5\n",
        "    ```\n"
      ]
    },
    {
      "cell_type": "markdown",
      "metadata": {
        "id": "LC5dYfRjhd4g",
        "colab_type": "text"
      },
      "source": [
        "###Write your SQL below"
      ]
    },
    {
      "cell_type": "code",
      "metadata": {
        "id": "iB6bgp2ly5uW",
        "colab_type": "code",
        "outputId": "8cd3601e-770f-4104-cd31-4c5e19ced904",
        "colab": {
          "base_uri": "https://localhost:8080/",
          "height": 32
        }
      },
      "source": [
        "%%bigquery --project w4111-project-2-239513\n",
        "CREATE OR REPLACE TABLE dataset.Graph as SELECT distinct retweet_userid as src, userid as dst from `project2-236400.twitter.IRA` where is_retweet=True"
      ],
      "execution_count": 192,
      "outputs": [
        {
          "output_type": "execute_result",
          "data": {
            "text/html": [
              "<div>\n",
              "<style scoped>\n",
              "    .dataframe tbody tr th:only-of-type {\n",
              "        vertical-align: middle;\n",
              "    }\n",
              "\n",
              "    .dataframe tbody tr th {\n",
              "        vertical-align: top;\n",
              "    }\n",
              "\n",
              "    .dataframe thead th {\n",
              "        text-align: right;\n",
              "    }\n",
              "</style>\n",
              "<table border=\"1\" class=\"dataframe\">\n",
              "  <thead>\n",
              "    <tr style=\"text-align: right;\">\n",
              "      <th></th>\n",
              "    </tr>\n",
              "  </thead>\n",
              "  <tbody>\n",
              "  </tbody>\n",
              "</table>\n",
              "</div>"
            ],
            "text/plain": [
              "Empty DataFrame\n",
              "Columns: []\n",
              "Index: []"
            ]
          },
          "metadata": {
            "tags": []
          },
          "execution_count": 192
        }
      ]
    },
    {
      "cell_type": "markdown",
      "metadata": {
        "id": "UO4vnTjwgjYF",
        "colab_type": "text"
      },
      "source": [
        "## Question 4\n",
        "The indegree of a node in a directed graph is defined as the number of edges which are incoming on the node. Similarly, the outdegree of a node in a directed graph is defined as the number of edges which are outgoing from the node. For more information, you can read - [Indegree and Outdegree](https://en.wikipedia.org/wiki/Directed_graph#Indegree_and_outdegree)\n",
        "\n",
        "Using this information, find out from the GRAPH table which user has the highest indegree and which user has the highest outdegree.\n",
        "\n",
        "Your anwser should be a single query. You need to run it and get the output containing the columns:\n",
        "- max_indegree (userid)\n",
        "- max_outdegree (userid)"
      ]
    },
    {
      "cell_type": "markdown",
      "metadata": {
        "id": "Ptl04NMVhe7E",
        "colab_type": "text"
      },
      "source": [
        "###Write your SQL below"
      ]
    },
    {
      "cell_type": "code",
      "metadata": {
        "colab_type": "code",
        "id": "VG9MuzmZy8pC",
        "outputId": "dd0aa53e-e700-4c34-9709-d80fd13fef83",
        "colab": {
          "base_uri": "https://localhost:8080/",
          "height": 80
        }
      },
      "source": [
        "%%bigquery --project w4111-project-2-239513\n",
        "WITH ind as (select dst, count(*) as indegree from  dataset.Graph group by dst),\n",
        "     oud as (select src, count(*) as outdegree from  dataset.Graph group by src),\n",
        "     temp1 as(select dst as max_indegree from ind where indegree=(SELECT max(indegree) as max_indegree FROM ind )),\n",
        "     temp2 as(select src as max_outdegree from oud where outdegree=(SELECT max(outdegree) as max_outdegree FROM oud ))\n",
        "     select max_indegree, max_outdegree from temp1, temp2\n",
        "     "
      ],
      "execution_count": 0,
      "outputs": [
        {
          "output_type": "execute_result",
          "data": {
            "text/html": [
              "<div>\n",
              "<style scoped>\n",
              "    .dataframe tbody tr th:only-of-type {\n",
              "        vertical-align: middle;\n",
              "    }\n",
              "\n",
              "    .dataframe tbody tr th {\n",
              "        vertical-align: top;\n",
              "    }\n",
              "\n",
              "    .dataframe thead th {\n",
              "        text-align: right;\n",
              "    }\n",
              "</style>\n",
              "<table border=\"1\" class=\"dataframe\">\n",
              "  <thead>\n",
              "    <tr style=\"text-align: right;\">\n",
              "      <th></th>\n",
              "      <th>max_indegree</th>\n",
              "      <th>max_outdegree</th>\n",
              "    </tr>\n",
              "  </thead>\n",
              "  <tbody>\n",
              "    <tr>\n",
              "      <th>0</th>\n",
              "      <td>a95a911dd6ae864c48ed062cdbe75e5c28dbe0cf57c6db3fa9dd53b654ee9845</td>\n",
              "      <td>2572896396</td>\n",
              "    </tr>\n",
              "  </tbody>\n",
              "</table>\n",
              "</div>"
            ],
            "text/plain": [
              "                                                       max_indegree  \\\n",
              "0  a95a911dd6ae864c48ed062cdbe75e5c28dbe0cf57c6db3fa9dd53b654ee9845   \n",
              "\n",
              "  max_outdegree  \n",
              "0  2572896396    "
            ]
          },
          "metadata": {
            "tags": []
          },
          "execution_count": 6
        }
      ]
    },
    {
      "cell_type": "markdown",
      "metadata": {
        "id": "gPxldX_agvJs",
        "colab_type": "text"
      },
      "source": [
        "## Question 5\n",
        "Let us define 4 categories of Twitter users in IRA dataset. We will use the average number of likes a user gets on his/her tweets as the first metric and the number of users retweet him (i.e. indegree) as the second metric. Then we can classify each user as follows:\n",
        "- High indegree, high average number of likes \n",
        "- High indegree, low average number of likes\n",
        "- Low indegree, high average number of likes\n",
        "- Low indegree, low average number of likes\n",
        "\n",
        "We will refer to the 'low indegree, low average likes' category of users as \"unpopular\" users and 'high indegree, high average likes' category of users as \"popular\" users. \n",
        "\n",
        "We define the indegree and average number of likes to be high or low based on the rules below:\n",
        "   \n",
        "   1) If `indegree < avg(indegree of all users)` in the graph then indegree is said to be low for the user, else it is considered high.\n",
        "    \n",
        "   2) If `avg(likes of all tweets for the user) < avg(likes for all tweets)` in the graph, then the average number of likes is said to be low for the user, else it is considered high.\n",
        "\n",
        "Now, you need to find the conditional probability that given **all tweets from unpopular users**, what is the probability that **they are retweeted from popular users**. We only consider user in this dataset.\n",
        "\n",
        "You can use temperary tables to do this question(no need to implement in a single query). Your final output should contain the column:\n",
        "- popular_unpopular (conditional probability)"
      ]
    },
    {
      "cell_type": "markdown",
      "metadata": {
        "id": "CpY9GITBhfoG",
        "colab_type": "text"
      },
      "source": [
        "###Write your SQL below"
      ]
    },
    {
      "cell_type": "code",
      "metadata": {
        "id": "8tcevGN2gwbC",
        "colab_type": "code",
        "outputId": "2af1c5a9-aea9-4224-bc7e-a7fa4591d23f",
        "colab": {
          "base_uri": "https://localhost:8080/",
          "height": 80
        }
      },
      "source": [
        "%%bigquery --project w4111-project-2-239513\n",
        "WITH ind as (select dst, count(*) as indegree from  dataset.Graph group by dst),\n",
        "     pop_in as (select distinct dst from ind where indegree >(select avg(indegree) from ind)),\n",
        "     unpop_in as (select distinct dst from ind where indegree < (select avg(indegree) from ind)),\n",
        "     like_table as (select userid,avg(like_count) as like_num from `project2-236400.twitter.IRA` group by userid),\n",
        "     unpop_like as (select distinct userid from like_table where like_num<(select avg(like_count) from `project2-236400.twitter.IRA`)),\n",
        "     pop_like as (select distinct userid from like_table where like_num>(select avg(like_count) from `project2-236400.twitter.IRA`)),\n",
        "     unpop_user as (select * from unpop_in INTERSECT DISTINCT select * from unpop_like),\n",
        "     pop_user as (select * from pop_in INTERSECT DISTINCT select * from pop_like),\n",
        "     unpop_pop as(select count(*) as num from dataset.Graph where dst in (select * from pop_user) and src in (select * from unpop_user)),\n",
        "     unpop as (select count(*) as num from dataset.Graph where src in (select * from unpop_user))\n",
        "     select unpop_pop.num/unpop.num*1.0 as condition_proba\n",
        "     from unpop, unpop_pop \n",
        "     "
      ],
      "execution_count": 0,
      "outputs": [
        {
          "output_type": "execute_result",
          "data": {
            "text/html": [
              "<div>\n",
              "<style scoped>\n",
              "    .dataframe tbody tr th:only-of-type {\n",
              "        vertical-align: middle;\n",
              "    }\n",
              "\n",
              "    .dataframe tbody tr th {\n",
              "        vertical-align: top;\n",
              "    }\n",
              "\n",
              "    .dataframe thead th {\n",
              "        text-align: right;\n",
              "    }\n",
              "</style>\n",
              "<table border=\"1\" class=\"dataframe\">\n",
              "  <thead>\n",
              "    <tr style=\"text-align: right;\">\n",
              "      <th></th>\n",
              "      <th>condition_proba</th>\n",
              "    </tr>\n",
              "  </thead>\n",
              "  <tbody>\n",
              "    <tr>\n",
              "      <th>0</th>\n",
              "      <td>0.00252</td>\n",
              "    </tr>\n",
              "  </tbody>\n",
              "</table>\n",
              "</div>"
            ],
            "text/plain": [
              "   condition_proba\n",
              "0  0.00252        "
            ]
          },
          "metadata": {
            "tags": []
          },
          "execution_count": 124
        }
      ]
    },
    {
      "cell_type": "markdown",
      "metadata": {
        "id": "NNd-izq5gygi",
        "colab_type": "text"
      },
      "source": [
        "## Question 6\n",
        "Given a graph G = (V, E), a “triangle” is a set of three vertices that are mutually adjacent in G i.e. given 3 nodes of a graph A, B, C there exist edges A->B, B->C and C->A which form a triangle in the graph. From the graph table which you created above, find out the number of triangles in the graph.\n",
        "\n",
        "In a directed graph, the direction of the edges matter.\n",
        " **A -> B -> C -> A** and **A -> C -> B -> A** will count as 2 triangles.\n",
        "\n",
        "Your anwser should be a single query. You need to run it and get the output containing the columns:\n",
        "- no_of_triangles\n",
        "\n"
      ]
    },
    {
      "cell_type": "markdown",
      "metadata": {
        "id": "QVZFhO9ChgRC",
        "colab_type": "text"
      },
      "source": [
        "###Write your SQL below"
      ]
    },
    {
      "cell_type": "code",
      "metadata": {
        "id": "tJso1JX2x5Lw",
        "colab_type": "code",
        "outputId": "9f1cb0a4-220c-4964-fdaa-66a792595fe8",
        "colab": {
          "base_uri": "https://localhost:8080/",
          "height": 80
        }
      },
      "source": [
        "%%bigquery --project w4111-project-2-239513\n",
        "with temp1 as (\n",
        "select d1.src as src1, d1.dst as dst1, d2.src as src2, d2.dst as dst2\n",
        "from\n",
        "dataset.Graph as d1,dataset.Graph as d2\n",
        "where \n",
        "d1.src=d2.dst),\n",
        "temp2 as (\n",
        "select distinct src1,dst1,src2,dst2  from temp1, dataset.Graph as d3 \n",
        "where temp1.dst1=d3.src and temp1.src2=d3.dst)\n",
        "select CAST(count(*)/3 AS INT64) as no_of_triangles from temp2 \n"
      ],
      "execution_count": 186,
      "outputs": [
        {
          "output_type": "execute_result",
          "data": {
            "text/html": [
              "<div>\n",
              "<style scoped>\n",
              "    .dataframe tbody tr th:only-of-type {\n",
              "        vertical-align: middle;\n",
              "    }\n",
              "\n",
              "    .dataframe tbody tr th {\n",
              "        vertical-align: top;\n",
              "    }\n",
              "\n",
              "    .dataframe thead th {\n",
              "        text-align: right;\n",
              "    }\n",
              "</style>\n",
              "<table border=\"1\" class=\"dataframe\">\n",
              "  <thead>\n",
              "    <tr style=\"text-align: right;\">\n",
              "      <th></th>\n",
              "      <th>no_of_triangles</th>\n",
              "    </tr>\n",
              "  </thead>\n",
              "  <tbody>\n",
              "    <tr>\n",
              "      <th>0</th>\n",
              "      <td>1519382</td>\n",
              "    </tr>\n",
              "  </tbody>\n",
              "</table>\n",
              "</div>"
            ],
            "text/plain": [
              "   no_of_triangles\n",
              "0  1519382        "
            ]
          },
          "metadata": {
            "tags": []
          },
          "execution_count": 186
        }
      ]
    },
    {
      "cell_type": "markdown",
      "metadata": {
        "id": "usPMzhLkg30v",
        "colab_type": "text"
      },
      "source": [
        "## Question 7\n",
        "Let's check who has the most impact in IRA dataset.\n",
        "\n",
        "The **PageRank algorithm** is used to rank the importance of nodes in a graph. It works by counting the number of edges incident to a node to determine how important the node is. The underlying assumption is that more important nodes are likely to receive more links from other nodes. Find the top 100 nodes with the highest PageRank in the graph.\n",
        "Hint: It is not possible to use \"WITH RECURSIVE\" on BigQuery. You must develop a iterative implementation for PageRank (like the BFS example mentioned below).\n",
        "\n",
        "You must run the algorithm for 20 iterations and your output table should contain the following columns:\n",
        "- twitter_username (the twitter_username of the user)\n",
        "- page_rank_score\n",
        "\n",
        "\n",
        "\n",
        "---\n",
        "\n",
        "\n",
        "This algorithm works as follows - Assume a small universe of four web pages: A, B, C and D. PageRank is initialized to the same value for all pages since we assume a probability distribution between 0 and 1 as the PageRank for each node. Hence the initial value for each page in this example is 0.25. If the only links in the system were from pages B->A, C->A and D->A, each link would transfer 0.25 PageRank to A upon the next iteration, for a total of 0.75 i.e. PR(A) = PR(B) + PR(C) + PR(D). \n",
        "\n",
        "Now, suppose instead that we have the links B->C, B->A, C->A, D->A, D->B, D->C. Thus, upon the first iteration, page B would transfer half of its existing value, or 0.125, to page A and the other half, or 0.125, to page C. Page C would transfer all of its existing value, 0.25, to the only page it links to, A. Since D had three outbound links, it would transfer one third of its existing value, or approximately 0.083, to A. At the completion of this iteration, page A will have a PageRank of approximately 0.458.\n",
        "PR(A)=PR(B)/2 + PR(C)/1 + PR(D)/3.\n",
        "\n",
        "Thus, we can write the PageRank of A as:\n",
        "PR(A)= PR(B)/L(B) + PR(C)/L(C) + PR(D)/L(D) where L(x) gives us the number of outbound links for any node x. \n",
        "\n",
        "In general, the PageRank value for a page u is dependent on the PageRank values for each page v contained in the set containing all pages linking to page u, divided by the number of links from page v. \n",
        "It is given by the formula: ![](https://www.geeksforgeeks.org/wp-content/ql-cache/quicklatex.com-aafd3a0d9f8bb8325cf2b41a4a839bbf_l3.svg)\n",
        "\n",
        "\n",
        "\n",
        "---\n",
        "\n",
        "\n",
        "\n",
        "#### For this question, you can implement the simplified version of the PageRank algorithm. But it will be great if you handle dangling node and reducible graph. To read more about PageRank, you can refer to the following link: [PageRank](http://home.ie.cuhk.edu.hk/~wkshum/papers/pagerank.pdf)\n",
        "\n",
        "you will need to develop an iterative solution, i.e. your python code will act as a driver and issue multiple queries to BigQuery iteratively. As an example, we provided an iterative implementation of Breadth First Search on the starter code.\n",
        "\n",
        "To execute 5 iterations using A as a start node, you can simply call ``bfs(client, 'A', 5)``.\n",
        "\n",
        "The example saves the nodes visited at each iteration in a table ``distances``, along with their distance to the initial node. The function itself does not return any value (however, remind that you will be required to return values for Q7)."
      ]
    },
    {
      "cell_type": "markdown",
      "metadata": {
        "id": "menUD2Y5tZCF",
        "colab_type": "text"
      },
      "source": [
        "### Do not edit this function. This is for helping you develop your own iterative PageRank algorithm."
      ]
    },
    {
      "cell_type": "markdown",
      "metadata": {
        "id": "0IdUdtcMl-s9",
        "colab_type": "text"
      },
      "source": [
        "You don't have to use the BFS function in Q7. \n",
        " It is just an example to show you how to write iterative functions using SQL.  "
      ]
    },
    {
      "cell_type": "code",
      "metadata": {
        "id": "oRxXRmhGg5Sx",
        "colab_type": "code",
        "colab": {}
      },
      "source": [
        "project_id = 'w4111-project-2-239513'"
      ],
      "execution_count": 0,
      "outputs": []
    },
    {
      "cell_type": "code",
      "metadata": {
        "id": "bUYgyzUCtohF",
        "colab_type": "code",
        "outputId": "cb0a3e1f-6681-434e-d46f-ac78ea84d588",
        "colab": {
          "base_uri": "https://localhost:8080/",
          "height": 54
        }
      },
      "source": [
        "from google.cloud import bigquery\n",
        "client = bigquery.Client(project=project_id)\n",
        "\n",
        "def bfs(client, start, n_iter):\n",
        "\n",
        "    # You should replace dataset.bfs_graph with your dataset name and table name.\n",
        "    q1 = \"\"\"\n",
        "        CREATE TABLE IF NOT EXISTS dataset.bfs_graph (src string, dst string);\n",
        "        \"\"\"\n",
        "    q2 = \"\"\"\n",
        "        INSERT INTO dataset.bfs_graph(src, dst) VALUES\n",
        "        ('A', 'B'),\n",
        "        ('A', 'E'),\n",
        "        ('B', 'C'),\n",
        "        ('C', 'D'),\n",
        "        ('E', 'F'),\n",
        "        ('F', 'D'),\n",
        "        ('A', 'F'),\n",
        "        ('B', 'E'),\n",
        "        ('B', 'F'),\n",
        "        ('A', 'G'),\n",
        "        ('B', 'G'),\n",
        "        ('F', 'G'),\n",
        "        ('H', 'A'),\n",
        "        ('G', 'H'),\n",
        "        ('H', 'C'),\n",
        "        ('H', 'D'),\n",
        "        ('E', 'H'),\n",
        "        ('F', 'H');\n",
        "        \"\"\"\n",
        "\n",
        "    job = client.query(q1)\n",
        "    results = job.result()\n",
        "    job = client.query(q2)\n",
        "    results = job.result()\n",
        "\n",
        "    # You should replace dataset.distances with your dataset name and table name. \n",
        "    q3 = \"\"\"\n",
        "        CREATE OR REPLACE TABLE dataset.distances AS\n",
        "        SELECT '{start}' as node, 0 as distance\n",
        "        \"\"\".format(start=start)\n",
        "    job = client.query(q3)\n",
        "    # Result will be empty, but calling makes the code wait for the query to complete\n",
        "    job.result()\n",
        "\n",
        "    for i in range(n_iter):\n",
        "        print(\"Step %d...\" % (i+1))\n",
        "        q1 = \"\"\"\n",
        "        INSERT INTO dataset.distances(node, distance)\n",
        "        SELECT distinct dst, {next_distance}\n",
        "        FROM dataset.bfs_graph\n",
        "            WHERE src IN (\n",
        "                SELECT node\n",
        "                FROM dataset.distances\n",
        "                WHERE distance = {curr_distance}\n",
        "                )\n",
        "            AND dst NOT IN (\n",
        "                SELECT node\n",
        "                FROM dataset.distances\n",
        "                )\n",
        "            \"\"\".format(\n",
        "                curr_distance=i,\n",
        "                next_distance=i+1\n",
        "            )\n",
        "        job = client.query(q1)\n",
        "        results = job.result()\n",
        "       "
      ],
      "execution_count": 181,
      "outputs": [
        {
          "output_type": "stream",
          "text": [
            "WARNING:google.auth._default:No project ID could be determined. Consider running `gcloud config set project` or setting the GOOGLE_CLOUD_PROJECT environment variable\n"
          ],
          "name": "stderr"
        }
      ]
    },
    {
      "cell_type": "code",
      "metadata": {
        "id": "mfXkc7tyt9mH",
        "colab_type": "code",
        "outputId": "d6021991-2bea-4cbe-bb97-665dc33864b1",
        "colab": {
          "base_uri": "https://localhost:8080/",
          "height": 102
        }
      },
      "source": [
        "bfs(client, 'A', 5)"
      ],
      "execution_count": 187,
      "outputs": [
        {
          "output_type": "stream",
          "text": [
            "Step 1...\n",
            "Step 2...\n",
            "Step 3...\n",
            "Step 4...\n",
            "Step 5...\n"
          ],
          "name": "stdout"
        }
      ]
    },
    {
      "cell_type": "markdown",
      "metadata": {
        "id": "56tzjdLYhhDc",
        "colab_type": "text"
      },
      "source": [
        "###Write your Python Code below"
      ]
    },
    {
      "cell_type": "code",
      "metadata": {
        "id": "0pejsLxDuvCH",
        "colab_type": "code",
        "outputId": "598de40a-ffb8-4535-96e0-193d2fd54bfe",
        "colab": {
          "base_uri": "https://localhost:8080/",
          "height": 54
        }
      },
      "source": [
        "from google.cloud import bigquery\n",
        "client = bigquery.Client(project=project_id)\n",
        "def PageRank(client, n_iter):\n",
        "  q1=\"\"\"\n",
        "  with t1 as (\n",
        "  SELECT distinct src from dataset.Graph\n",
        "\n",
        "  union distinct \n",
        "\n",
        "  select distinct dst from dataset.Graph)\n",
        "\n",
        "  select count(*) as total_node from t1\n",
        "  \"\"\"\n",
        "  job = client.query(q1)\n",
        "  results = job.result() \n",
        "  total_node=results.to_dataframe()\n",
        "  total=total_node['total_node'].values[0]\n",
        "  \n",
        "  q4 = \"\"\"\n",
        "        CREATE OR REPLACE TABLE dataset.page_rank AS\n",
        "        SELECT distinct node, 1.0/{total} as pagerank\n",
        "        FROM \n",
        "        (\n",
        "        SELECT distinct src as node from dataset.Graph\n",
        "\n",
        "        union distinct \n",
        "\n",
        "        select distinct dst as node from dataset.Graph\n",
        "        )     \n",
        "       \"\"\".format(total=total)\n",
        "  job = client.query(q4)\n",
        "  results = job.result() \n",
        "\n",
        "  # create table outdegree in  clout \n",
        "  q5=\"\"\"\n",
        "  CREATE OR REPLACE TABLE dataset.Out as (select src, count(*) as outdegree from  dataset.Graph group by src)\n",
        "  \"\"\"\n",
        "  job = client.query(q5)\n",
        "  results=job.result()\n",
        "  # update the parameter \n",
        "  \n",
        "  for i in range(n_iter):\n",
        "    print(\"Step %d...\" % (i+1))\n",
        "    q6=\"\"\"\n",
        "    create or replace table dataset.give as \n",
        "    (select node as node,pagerank/outdegree as give\n",
        "    from dataset.page_rank as page_rank, dataset.Out as Out \n",
        "    where page_rank.node=Out.src)\n",
        "    \"\"\"\n",
        "    job = client.query(q6)\n",
        "    results=job.result()\n",
        "\n",
        "    q7=\"\"\"\n",
        "    CREATE OR REPLACE TABLE dataset.page_rank AS(\n",
        "    with temp1 as \n",
        "    (select * \n",
        "    from dataset.give as give,dataset.Graph as Graph \n",
        "    where give.node=Graph.src\n",
        "    ),\n",
        "     temp2 as \n",
        "    (select dst, sum(give) as gain from temp1 group by dst),\n",
        "\n",
        "    temp3 as(\n",
        "    select * \n",
        "    from dataset.page_rank as page_rank,temp2 \n",
        "    where page_rank.node=temp2.dst)\n",
        "\n",
        "    select node,gain as pagerank\n",
        "    from temp3)\n",
        "    \"\"\"\n",
        "    job = client.query(q7)\n",
        "    results = job.result()"
      ],
      "execution_count": 194,
      "outputs": [
        {
          "output_type": "stream",
          "text": [
            "WARNING:google.auth._default:No project ID could be determined. Consider running `gcloud config set project` or setting the GOOGLE_CLOUD_PROJECT environment variable\n"
          ],
          "name": "stderr"
        }
      ]
    },
    {
      "cell_type": "code",
      "metadata": {
        "id": "DAWp1JEJVgC4",
        "colab_type": "code",
        "outputId": "8d92e2b8-3e86-4389-b82a-c85acb0dcd21",
        "colab": {
          "base_uri": "https://localhost:8080/",
          "height": 357
        }
      },
      "source": [
        "PageRank(client, 20)"
      ],
      "execution_count": 195,
      "outputs": [
        {
          "output_type": "stream",
          "text": [
            "Step 1...\n",
            "Step 2...\n",
            "Step 3...\n",
            "Step 4...\n",
            "Step 5...\n",
            "Step 6...\n",
            "Step 7...\n",
            "Step 8...\n",
            "Step 9...\n",
            "Step 10...\n",
            "Step 11...\n",
            "Step 12...\n",
            "Step 13...\n",
            "Step 14...\n",
            "Step 15...\n",
            "Step 16...\n",
            "Step 17...\n",
            "Step 18...\n",
            "Step 19...\n",
            "Step 20...\n"
          ],
          "name": "stdout"
        }
      ]
    },
    {
      "cell_type": "code",
      "metadata": {
        "id": "2lL18U2mVl8u",
        "colab_type": "code",
        "colab": {
          "base_uri": "https://localhost:8080/",
          "height": 359
        },
        "outputId": "1187d8c3-5f29-42d7-da89-434698df9297"
      },
      "source": [
        "## select the top 10 pages \n",
        "\n",
        "%%bigquery --project w4111-project-2-239513\n",
        "select * from dataset.page_rank\n",
        "order by pagerank desc\n",
        "limit 10\n"
      ],
      "execution_count": 197,
      "outputs": [
        {
          "output_type": "execute_result",
          "data": {
            "text/html": [
              "<div>\n",
              "<style scoped>\n",
              "    .dataframe tbody tr th:only-of-type {\n",
              "        vertical-align: middle;\n",
              "    }\n",
              "\n",
              "    .dataframe tbody tr th {\n",
              "        vertical-align: top;\n",
              "    }\n",
              "\n",
              "    .dataframe thead th {\n",
              "        text-align: right;\n",
              "    }\n",
              "</style>\n",
              "<table border=\"1\" class=\"dataframe\">\n",
              "  <thead>\n",
              "    <tr style=\"text-align: right;\">\n",
              "      <th></th>\n",
              "      <th>node</th>\n",
              "      <th>pagerank</th>\n",
              "    </tr>\n",
              "  </thead>\n",
              "  <tbody>\n",
              "    <tr>\n",
              "      <th>0</th>\n",
              "      <td>a95a911dd6ae864c48ed062cdbe75e5c28dbe0cf57c6db3fa9dd53b654ee9845</td>\n",
              "      <td>0.081719</td>\n",
              "    </tr>\n",
              "    <tr>\n",
              "      <th>1</th>\n",
              "      <td>ce88fa855f9d0064cd85cd7938b4b484b4de4966d2462802a40e72b98ce354b0</td>\n",
              "      <td>0.005243</td>\n",
              "    </tr>\n",
              "    <tr>\n",
              "      <th>2</th>\n",
              "      <td>432b5b8c124aa79f278df08b1961f474c14b2f0aaee2091b18d02667d08ebea0</td>\n",
              "      <td>0.005239</td>\n",
              "    </tr>\n",
              "    <tr>\n",
              "      <th>3</th>\n",
              "      <td>f8fb4be6969cb8dfd5bba5f58174ae52f46125e0109ff5bd1bae7f5c1d277746</td>\n",
              "      <td>0.005239</td>\n",
              "    </tr>\n",
              "    <tr>\n",
              "      <th>4</th>\n",
              "      <td>52097ebf36ea47af5e4e8a3c8c4f36076bc31345c1e58b73e1407f8da4523dab</td>\n",
              "      <td>0.005239</td>\n",
              "    </tr>\n",
              "    <tr>\n",
              "      <th>5</th>\n",
              "      <td>f3f40074ccd82cc468b182cdf6772e5aa609a39b3b7f7c49ce497c782bd470a9</td>\n",
              "      <td>0.005235</td>\n",
              "    </tr>\n",
              "    <tr>\n",
              "      <th>6</th>\n",
              "      <td>7da03b08bdc22426ad8550af049eda83f3546e4cef3f023c59d719495f0e9135</td>\n",
              "      <td>0.005235</td>\n",
              "    </tr>\n",
              "    <tr>\n",
              "      <th>7</th>\n",
              "      <td>271484d1d8f811c7184958d7d25b346f3733d2dc1d265eb8bd75764f0991b3b1</td>\n",
              "      <td>0.005108</td>\n",
              "    </tr>\n",
              "    <tr>\n",
              "      <th>8</th>\n",
              "      <td>544ffc2a3ab3cf83eccf320cc33921c8afa5e4e8864973e0410563235555c4ba</td>\n",
              "      <td>0.005108</td>\n",
              "    </tr>\n",
              "    <tr>\n",
              "      <th>9</th>\n",
              "      <td>fe2395083be2ad32c75843525d6ab75e9ae8b69ba94d585cca04b0592ee121b4</td>\n",
              "      <td>0.005105</td>\n",
              "    </tr>\n",
              "  </tbody>\n",
              "</table>\n",
              "</div>"
            ],
            "text/plain": [
              "                                                               node  pagerank\n",
              "0  a95a911dd6ae864c48ed062cdbe75e5c28dbe0cf57c6db3fa9dd53b654ee9845  0.081719\n",
              "1  ce88fa855f9d0064cd85cd7938b4b484b4de4966d2462802a40e72b98ce354b0  0.005243\n",
              "2  432b5b8c124aa79f278df08b1961f474c14b2f0aaee2091b18d02667d08ebea0  0.005239\n",
              "3  f8fb4be6969cb8dfd5bba5f58174ae52f46125e0109ff5bd1bae7f5c1d277746  0.005239\n",
              "4  52097ebf36ea47af5e4e8a3c8c4f36076bc31345c1e58b73e1407f8da4523dab  0.005239\n",
              "5  f3f40074ccd82cc468b182cdf6772e5aa609a39b3b7f7c49ce497c782bd470a9  0.005235\n",
              "6  7da03b08bdc22426ad8550af049eda83f3546e4cef3f023c59d719495f0e9135  0.005235\n",
              "7  271484d1d8f811c7184958d7d25b346f3733d2dc1d265eb8bd75764f0991b3b1  0.005108\n",
              "8  544ffc2a3ab3cf83eccf320cc33921c8afa5e4e8864973e0410563235555c4ba  0.005108\n",
              "9  fe2395083be2ad32c75843525d6ab75e9ae8b69ba94d585cca04b0592ee121b4  0.005105"
            ]
          },
          "metadata": {
            "tags": []
          },
          "execution_count": 197
        }
      ]
    },
    {
      "cell_type": "markdown",
      "metadata": {
        "id": "ip4RgDTKg-xl",
        "colab_type": "text"
      },
      "source": [
        "## Submission Instructions\n",
        "* Click **File** on the colab menu, chose **Download .ipynb**\n",
        "\n",
        "* Submit it via:\n",
        "https://www.instabase.com/apps/file-submission/cmd/submit/05dd2e62-11b6-4219-9e59-2ede5ebc642b\n"
      ]
    }
  ]
}